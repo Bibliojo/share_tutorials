{
 "cells": [
  {
   "cell_type": "markdown",
   "metadata": {},
   "source": [
    "# CNI 2015 - Spring, Seattle\n",
    "\n",
    "The following is code to generate graphs for the SHARE presentation."
   ]
  },
  {
   "cell_type": "markdown",
   "metadata": {},
   "source": [
    "# Setup"
   ]
  },
  {
   "cell_type": "code",
   "execution_count": 132,
   "metadata": {
    "collapsed": false
   },
   "outputs": [
    {
     "data": {
      "image/png": "[encoded data removed]",
      "text/plain": [
       "<matplotlib.figure.Figure at 0x1159a56a0>"
      ]
     },
     "metadata": {},
     "output_type": "display_data"
    }
   ],
   "source": [
    "%matplotlib inline\n",
    "\n",
    "import numpy as np\n",
    "from numpy.random import randn\n",
    "import pandas as pd\n",
    "from scipy import stats\n",
    "import matplotlib as mpl\n",
    "import matplotlib.pyplot as plt\n",
    "import seaborn as sns\n",
    "\n",
    "sns.set_style(\"whitegrid\")\n",
    "current_palette = sns.color_palette()\n",
    "sns.palplot(current_palette)\n",
    "\n",
    "import requests\n",
    "requests.packages.urllib3.disable_warnings()\n",
    "\n",
    "OSF_APP_URL = 'https://osf.io/api/v1/share/search/?raw=True&v=1'\n",
    "\n",
    "def as_dict(key, agg):\n",
    "    d = {}\n",
    "    if 'buckets' in agg['aggregations']['agg']:\n",
    "        pairs = agg['aggregations']['agg']['buckets']\n",
    "    else:\n",
    "        pairs = agg['aggregations']['agg']['next']['buckets']\n",
    "    for pair in pairs:\n",
    "        d[pair['key']] = { key: pair['doc_count'] }\n",
    "    return d#{pair['key']:{key:pair['doc_count']} for pair in agg['aggregations']['agg']['buckets']}\n",
    "\n",
    "def query(q):\n",
    "    a = {\n",
    "        'size': 0,\n",
    "        'aggs': q\n",
    "    }\n",
    "    response = requests.post(OSF_APP_URL, json=a, verify=False)\n",
    "    return response.json()\n",
    "\n",
    "def agg(key, q):\n",
    "    return as_dict(key, query({\"agg\": q}))\n",
    "\n",
    "def merge(d1, d2):\n",
    "    for k,v in d2.items():\n",
    "        if k in d1:\n",
    "            for k2,v2 in v.items():\n",
    "                d1[k][k2] = v2\n",
    "        else:\n",
    "            d1[k] = v\n",
    "    return d1\n",
    "\n",
    "def merge(df, a):\n",
    "    return df.merge(\n",
    "        pd.DataFrame.from_dict(a, 'index'),\n",
    "        left_index=True, right_index=True\n",
    "    )"
   ]
  },
  {
   "cell_type": "markdown",
   "metadata": {},
   "source": [
    "## Load aggregation queries"
   ]
  },
  {
   "cell_type": "code",
   "execution_count": 133,
   "metadata": {
    "collapsed": false
   },
   "outputs": [],
   "source": [
    "agg_total = {\n",
    "    \"terms\": {\n",
    "        \"min_doc_count\": 0, \n",
    "        \"size\": 0, \n",
    "        \"field\": \"source\"\n",
    "    }\n",
    "}\n",
    "\n",
    "agg_no_doi = { \n",
    "    \"aggs\": {\n",
    "        \"next\": {\n",
    "            \"terms\": {\n",
    "                \"min_doc_count\": 0, \n",
    "                \"size\": 0, \n",
    "                \"field\": \"source\"\n",
    "            }, \n",
    "        }\n",
    "    },\n",
    "    \"filter\": {\n",
    "        \"query\": {\n",
    "            \"query_string\": {\n",
    "                \"query\": \"NOT doi:*\"\n",
    "            }\n",
    "        }\n",
    "    }\n",
    "}\n",
    "\n",
    "agg_no_title = { \n",
    "    \"aggs\": {\n",
    "        \"next\": {\n",
    "            \"terms\": {\n",
    "                \"min_doc_count\": 0, \n",
    "                \"size\": 0, \n",
    "                \"field\": \"source\"\n",
    "            }, \n",
    "        }\n",
    "    },\n",
    "    \"filter\": {\n",
    "        \"query\": {\n",
    "            \"query_string\": {\n",
    "                \"query\": \"NOT title:*\"\n",
    "            }\n",
    "        }\n",
    "    }\n",
    "}\n",
    "\n",
    "top_tags = {\"tagsTermFilter\": {\"terms\": {\"size\": 10, \"field\": \"tags\", \"exclude\": \"of|and|or\"}}, \"allSourceAgg\": {\"terms\": {\"min_doc_count\": 0, \"size\": 0, \"field\": \"source\"}}}"
   ]
  },
  {
   "cell_type": "markdown",
   "metadata": {},
   "source": [
    "## Aggregate Total Documents by Provider"
   ]
  },
  {
   "cell_type": "code",
   "execution_count": 134,
   "metadata": {
    "collapsed": false
   },
   "outputs": [],
   "source": [
    "data = agg('total', agg_total)\n",
    "df = pd.DataFrame.from_dict(data, 'index')"
   ]
  },
  {
   "cell_type": "markdown",
   "metadata": {},
   "source": [
    "## Aggregate DOI Count by provider"
   ]
  },
  {
   "cell_type": "code",
   "execution_count": 135,
   "metadata": {
    "collapsed": false
   },
   "outputs": [],
   "source": [
    "df = merge(df, agg('no_doi', agg_no_doi))\n",
    "df['percent_doi'] = (df['total']-df['no_doi'])/df['total']*100"
   ]
  },
  {
   "cell_type": "markdown",
   "metadata": {},
   "source": [
    "## Aggregate Title Count by Provider"
   ]
  },
  {
   "cell_type": "code",
   "execution_count": 136,
   "metadata": {
    "collapsed": false
   },
   "outputs": [],
   "source": [
    "df = merge(df, agg('no_title', agg_no_title))\n",
    "df['percent_title'] = (df['total']-df['no_title'])/df['total']*100"
   ]
  },
  {
   "cell_type": "markdown",
   "metadata": {},
   "source": [
    "# Summary"
   ]
  },
  {
   "cell_type": "markdown",
   "metadata": {},
   "source": [
    "## Percentage Titles"
   ]
  },
  {
   "cell_type": "code",
   "execution_count": 141,
   "metadata": {
    "collapsed": false
   },
   "outputs": [
    {
     "data": {
      "text/plain": [
       "<matplotlib.axes._subplots.AxesSubplot at 0x1156f0fd0>"
      ]
     },
     "execution_count": 141,
     "metadata": {},
     "output_type": "execute_result"
    },
    {
     "data": {
      "image/png": "[encoded data removed]",
      "text/plain": [
       "<matplotlib.figure.Figure at 0x115c21f28>"
      ]
     },
     "metadata": {},
     "output_type": "display_data"
    }
   ],
   "source": [
    "plt.figure(figsize=(8, 6))\n",
    "sns.distplot(df['percent_title'], rug=True, kde=False, bins=np.arange(0, 105.1, 5))"
   ]
  },
  {
   "cell_type": "markdown",
   "metadata": {},
   "source": [
    "## Percentage DOIs"
   ]
  },
  {
   "cell_type": "code",
   "execution_count": 142,
   "metadata": {
    "collapsed": false
   },
   "outputs": [
    {
     "data": {
      "text/plain": [
       "<matplotlib.axes._subplots.AxesSubplot at 0x115987da0>"
      ]
     },
     "execution_count": 142,
     "metadata": {},
     "output_type": "execute_result"
    },
    {
     "data": {
      "image/png": "[encoded data removed]",
      "text/plain": [
       "<matplotlib.figure.Figure at 0x115987550>"
      ]
     },
     "metadata": {},
     "output_type": "display_data"
    }
   ],
   "source": [
    "plt.figure(figsize=(8, 6))\n",
    "sns.distplot(df['percent_doi'], rug=True, kde=False, bins=np.arange(0, 105, 5))"
   ]
  },
  {
   "cell_type": "markdown",
   "metadata": {},
   "source": [
    "## Top 10 Tags"
   ]
  },
  {
   "cell_type": "code",
   "execution_count": 143,
   "metadata": {
    "collapsed": false,
    "scrolled": true
   },
   "outputs": [
    {
     "data": {
      "text/plain": [
       "{'_shards': {'failed': 0, 'successful': 5, 'total': 5},\n",
       " 'aggregations': {'tagsTermFilter': {'buckets': [{'doc_count': 16057,\n",
       "     'key': 'water'},\n",
       "    {'doc_count': 15492, 'key': 'health'},\n",
       "    {'doc_count': 15119, 'key': 'california'},\n",
       "    {'doc_count': 14826, 'key': 'county'},\n",
       "    {'doc_count': 14373, 'key': 'drinking'},\n",
       "    {'doc_count': 14368, 'key': 'contaminants'},\n",
       "    {'doc_count': 10902, 'key': 'physics'},\n",
       "    {'doc_count': 9580, 'key': 'science'},\n",
       "    {'doc_count': 8367, 'key': 'article'},\n",
       "    {'doc_count': 5987, 'key': 'energy'}],\n",
       "   'doc_count_error_upper_bound': 2062,\n",
       "   'sum_other_doc_count': 692407}},\n",
       " 'hits': {'hits': [], 'max_score': 0.0, 'total': 617663},\n",
       " 'time': 0.1,\n",
       " 'timed_out': False,\n",
       " 'took': 86}"
      ]
     },
     "execution_count": 143,
     "metadata": {},
     "output_type": "execute_result"
    }
   ],
   "source": [
    "query({\"tagsTermFilter\": {\"terms\": {\"size\": 10, \"field\": \"tags\", \"exclude\": \"of|and|or\"}}})"
   ]
  },
  {
   "cell_type": "markdown",
   "metadata": {},
   "source": [
    "## The Data"
   ]
  },
  {
   "cell_type": "code",
   "execution_count": null,
   "metadata": {
    "collapsed": false
   },
   "outputs": [],
   "source": [
    "df"
   ]
  }
 ],
 "metadata": {
  "kernelspec": {
   "display_name": "Python 2",
   "language": "python",
   "name": "python2"
  },
  "language_info": {
   "codemirror_mode": {
    "name": "ipython",
    "version": 2
   },
   "file_extension": ".py",
   "mimetype": "text/x-python",
   "name": "python",
   "nbconvert_exporter": "python",
   "pygments_lexer": "ipython2",
   "version": "2.7.10"
  }
 },
 "nbformat": 4,
 "nbformat_minor": 0
}
