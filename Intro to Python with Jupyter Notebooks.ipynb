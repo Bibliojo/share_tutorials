{
 "cells": [
  {
   "cell_type": "markdown",
   "metadata": {},
   "source": [
    "# iPython/Jupyter Notebooks!\n",
    "\n",
    "## Python basics, querying web APIs, and you\n",
    "\n",
    "For the majority of this workshop, we'll be making use of a few excellent open source tools:\n",
    "- Python\n",
    "- Jupyter (formerly iPython) Notebooks"
   ]
  },
  {
   "cell_type": "markdown",
   "metadata": {},
   "source": [
    "![title](img/python-logo.png)\n",
    "\n",
    "- Very large community of developers\n",
    "- Used all over the world"
   ]
  },
  {
   "cell_type": "markdown",
   "metadata": {},
   "source": [
    "![title](img/jupyter.png)"
   ]
  },
  {
   "cell_type": "markdown",
   "metadata": {},
   "source": [
    "![title](img/python-logo.png)"
   ]
  },
  {
   "cell_type": "code",
   "execution_count": null,
   "metadata": {
    "collapsed": true
   },
   "outputs": [],
   "source": []
  },
  {
   "cell_type": "code",
   "execution_count": null,
   "metadata": {
    "collapsed": true
   },
   "outputs": [],
   "source": []
  },
  {
   "cell_type": "code",
   "execution_count": null,
   "metadata": {
    "collapsed": true
   },
   "outputs": [],
   "source": []
  },
  {
   "cell_type": "code",
   "execution_count": null,
   "metadata": {
    "collapsed": true
   },
   "outputs": [],
   "source": []
  },
  {
   "cell_type": "code",
   "execution_count": 6,
   "metadata": {
    "collapsed": true
   },
   "outputs": [],
   "source": [
    "import json\n",
    "import requests\n",
    "\n",
    "LAT = 38.0317940\n",
    "LON = -78.4844460"
   ]
  },
  {
   "cell_type": "code",
   "execution_count": 2,
   "metadata": {
    "collapsed": true
   },
   "outputs": [],
   "source": [
    "url = 'http://api.open-notify.org/iss-pass.json?lat={}&lon={}'.format(LAT, LON)"
   ]
  },
  {
   "cell_type": "code",
   "execution_count": 3,
   "metadata": {
    "collapsed": true
   },
   "outputs": [],
   "source": [
    "data = requests.get(url).json()"
   ]
  },
  {
   "cell_type": "code",
   "execution_count": 7,
   "metadata": {
    "collapsed": false
   },
   "outputs": [
    {
     "name": "stdout",
     "output_type": "stream",
     "text": [
      "{\n",
      "    \"message\": \"success\", \n",
      "    \"request\": {\n",
      "        \"latitude\": 38.031794, \n",
      "        \"passes\": 5, \n",
      "        \"altitude\": 100, \n",
      "        \"longitude\": -78.484446, \n",
      "        \"datetime\": 1467485324\n",
      "    }, \n",
      "    \"response\": [\n",
      "        {\n",
      "            \"duration\": 468, \n",
      "            \"risetime\": 1467539172\n",
      "        }, \n",
      "        {\n",
      "            \"duration\": 639, \n",
      "            \"risetime\": 1467544842\n",
      "        }, \n",
      "        {\n",
      "            \"duration\": 567, \n",
      "            \"risetime\": 1467550689\n",
      "        }, \n",
      "        {\n",
      "            \"duration\": 477, \n",
      "            \"risetime\": 1467556590\n",
      "        }\n",
      "    ]\n",
      "}\n"
     ]
    }
   ],
   "source": [
    "# print out the data we get back in a nice way\n",
    "print(json.dumps(data, indent=4))"
   ]
  },
  {
   "cell_type": "markdown",
   "metadata": {},
   "source": [
    "## Making Sense of the Data\n",
    "\n",
    "The data that get's returned from the ISS API is a little bit difficult to interpret on its own, so we'll have to write some code to make it more useful.\n",
    "\n",
    "Here's a function that will take each item in the response, and parse it into a date and time that we can understand.\n",
    "\n",
    "parsing those timestamps\n",
    "https://json-csv.com/\n"
   ]
  },
  {
   "cell_type": "code",
   "execution_count": null,
   "metadata": {
    "collapsed": true
   },
   "outputs": [],
   "source": [
    "def"
   ]
  },
  {
   "cell_type": "code",
   "execution_count": null,
   "metadata": {
    "collapsed": true
   },
   "outputs": [],
   "source": []
  },
  {
   "cell_type": "code",
   "execution_count": null,
   "metadata": {
    "collapsed": true
   },
   "outputs": [],
   "source": []
  }
 ],
 "metadata": {
  "kernelspec": {
   "display_name": "Python 2",
   "language": "python",
   "name": "python2"
  },
  "language_info": {
   "codemirror_mode": {
    "name": "ipython",
    "version": 2
   },
   "file_extension": ".py",
   "mimetype": "text/x-python",
   "name": "python",
   "nbconvert_exporter": "python",
   "pygments_lexer": "ipython2",
   "version": "2.7.11"
  }
 },
 "nbformat": 4,
 "nbformat_minor": 0
}
